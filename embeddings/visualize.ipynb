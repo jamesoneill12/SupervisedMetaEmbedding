{
 "cells": [
  {
   "cell_type": "code",
   "execution_count": 8,
   "metadata": {},
   "outputs": [],
   "source": [
    "import numpy as np\n",
    "import matplotlib.pyplot as plt\n",
    "import pickle"
   ]
  },
  {
   "cell_type": "code",
   "execution_count": 6,
   "metadata": {},
   "outputs": [],
   "source": [
    "def load_embeddings(name):\n",
    "    root = \"C:/Users/jimon/Projects/word-embeddings-benchmarks/models/embeddings/\"\n",
    "    with open(root + name + '.pkl', 'rb') as f:\n",
    "        return pickle.load(f)"
   ]
  },
  {
   "cell_type": "code",
   "execution_count": 9,
   "metadata": {},
   "outputs": [],
   "source": [
    "rel_cosine = load_embeddings('cosine_loss_caeme_caeme_embeddings')\n",
    "rel_mse = load_embeddings('mse_loss_caeme_caeme_embeddings')"
   ]
  },
  {
   "cell_type": "code",
   "execution_count": 16,
   "metadata": {},
   "outputs": [],
   "source": [
    "X = np.array(list(rel_cosine.values()))\n",
    "words = np.array(list(rel_cosine.keys()))"
   ]
  },
  {
   "cell_type": "code",
   "execution_count": 24,
   "metadata": {},
   "outputs": [],
   "source": [
    "np.savetxt('cosine_embeddings.txt', X, fmt='%.18e', delimiter='\\t') \n",
    "np.savetxt('cos_words.txt', words, fmt='%s', delimiter='\\t')"
   ]
  },
  {
   "cell_type": "code",
   "execution_count": 25,
   "metadata": {},
   "outputs": [],
   "source": [
    "X = np.array(list(rel_mse.values()))\n",
    "words = np.array(list(rel_mse.keys()))\n",
    "np.savetxt('mse_embeddings.txt', X, fmt='%.18e', delimiter='\\t') \n",
    "np.savetxt('mse_words.txt', words, fmt='%s', delimiter='\\t')"
   ]
  }
 ],
 "metadata": {
  "kernelspec": {
   "display_name": "Python 3",
   "language": "python",
   "name": "python3"
  },
  "language_info": {
   "codemirror_mode": {
    "name": "ipython",
    "version": 3
   },
   "file_extension": ".py",
   "mimetype": "text/x-python",
   "name": "python",
   "nbconvert_exporter": "python",
   "pygments_lexer": "ipython3",
   "version": "3.6.4"
  }
 },
 "nbformat": 4,
 "nbformat_minor": 2
}
